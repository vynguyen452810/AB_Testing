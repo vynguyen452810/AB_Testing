{
 "cells": [
  {
   "cell_type": "markdown",
   "metadata": {
    "id": "m0u4c1TjQdJW"
   },
   "source": [
    "# Business Problem:\n",
    "Elpis Clothing is a new eCommerce clothing brand. They are checking the effective of their pre-launch page effficcy by collecting emails from site visitors. The plan is to collect as many emails for the website launch. \n",
    "\n",
    "To test teh pre-launch page, our goal is to design, run and analyze an AB experiment that tests two versions of the email sign-up on the pre-launch page.\n",
    "\n",
    "The control is the blue submit button, which is the current version. The treatment is the green submit buton."
   ]
  },
  {
   "cell_type": "code",
   "execution_count": null,
   "metadata": {
    "id": "tgbCnmeaW6DI"
   },
   "outputs": [],
   "source": [
    "\n",
    "from datetime import datetime\n",
    "import random\n",
    "import math\n",
    "\n",
    "import seaborn as sns\n",
    "import pandas as pd\n",
    "import numpy as np\n",
    "import scipy.stats as stats\n",
    "import statsmodels.api as sm\n",
    "import matplotlib.pyplot as plt\n",
    "import matplotlib.dates as mdates\n",
    "from matplotlib.ticker import MultipleLocator\n",
    "from statsmodels.stats.power import TTestIndPower, tt_ind_solve_power\n",
    "from statsmodels.stats.weightstats import ttest_ind\n",
    "from statsmodels.stats.proportion import proportions_chisquare, confint_proportions_2indep\n",
    "\n",
    "from google.colab import drive\n",
    "drive.mount('/content/drive/')\n",
    "\n",
    "# Disable warnings\n",
    "from warnings import filterwarnings\n",
    "filterwarnings('ignore')\n",
    "\n",
    "# Set seed for np random\n",
    "SEED = 123\n",
    "np.random.seed(SEED)"
   ]
  },
  {
   "cell_type": "markdown",
   "metadata": {
    "id": "1kN-TQneRTvi"
   },
   "source": [
    "## Load Data"
   ]
  },
  {
   "cell_type": "code",
   "execution_count": null,
   "metadata": {
    "id": "c4vlA5w3OVYi"
   },
   "outputs": [],
   "source": [
    "# Set data path and load data\n",
    "pretest = pd.read_csv('Data/pretest.csv')\n",
    "test = pd.read_csv('Data/pretest.csv')\n",
    "\n",
    "# Set date fields as date_time\n",
    "pretest['date'] = pd.to_datetime(pretest['date'])\n",
    "test['date'] = pd.to_datetime(test['date'])"
   ]
  },
  {
   "cell_type": "markdown",
   "metadata": {
    "id": "XTTTA5mpaQ1s"
   },
   "source": [
    "## Table Summary"
   ]
  },
  {
   "cell_type": "code",
   "execution_count": null,
   "metadata": {
    "id": "DIFnUsPogc-E"
   },
   "outputs": [],
   "source": [
    "pretest.head()\n",
    "print('# of rows:', pretest.shape[0])"
   ]
  },
  {
   "cell_type": "code",
   "execution_count": null,
   "metadata": {
    "id": "0TTyTXq5gd49"
   },
   "outputs": [],
   "source": [
    "# What's the date range of the date field in the table?\n",
    "print('Date range:', pretest.date.min(), '-', pretest.date.max())"
   ]
  },
  {
   "cell_type": "code",
   "execution_count": null,
   "metadata": {
    "id": "fjIscoxigfX5"
   },
   "outputs": [],
   "source": [
    "# Let's check for missingness. What's the null rate per column?\n",
    "pretest.isnull().mean()"
   ]
  },
  {
   "cell_type": "code",
   "execution_count": null,
   "metadata": {
    "id": "ZGsiYF5TggLZ"
   },
   "outputs": [],
   "source": [
    "# Number of visitors?\n",
    "print('Total visitor count:', pretest.visitor_id.nunique())\n",
    "# Number of sign-ups?\n",
    "print('Sign-up count:', pretest.submitted.sum())\n",
    "# Sign-up rate?\n",
    "print('Sign-up rate:', pretest.submitted.mean().round(2))"
   ]
  },
  {
   "cell_type": "markdown",
   "metadata": {
    "id": "yPbS0DwjaTc3"
   },
   "source": [
    "## Plot Visitor per Day"
   ]
  },
  {
   "cell_type": "code",
   "execution_count": null,
   "metadata": {
    "id": "CWnlIIn18Jan"
   },
   "outputs": [],
   "source": [
    "# Set the color palette for the plot\n",
    "colors = sns.color_palette()\n",
    "c1, c2 = colors[0], colors[1]\n",
    "\n",
    "# Count sign-ups by date\n",
    "visits_per_day = pretest.groupby('date')['submitted'].count()\n",
    "visits_mean = visits_per_day.mean()\n",
    "\n",
    "# Plot data\n",
    "f, ax = plt.subplots(figsize=(12, 5))\n",
    "plt.plot(visits_per_day.index, visits_per_day, '-o', color=c1, linewidth=1, label='Visits')\n",
    "plt.axhline(visits_mean, color=c1, linestyle='-', linewidth=3, alpha=0.3, label='Visits (Mean)')\n",
    "\n",
    "# Format plot\n",
    "ax.xaxis.set_major_locator(mdates.DayLocator(interval=7))\n",
    "ax.xaxis.set_major_formatter(mdates.DateFormatter(\"%b %d\"))\n",
    "ax.xaxis.set_minor_locator(mdates.DayLocator())\n",
    "plt.title('Visitor Count', fontsize=10, weight='bold')\n",
    "plt.ylabel('Visitors', fontsize=10)\n",
    "plt.xlabel('Date', fontsize=10)\n",
    "plt.legend()\n",
    "\n",
    "plt.show()"
   ]
  },
  {
   "cell_type": "markdown",
   "metadata": {
    "id": "frYwt9GRaZ5W"
   },
   "source": [
    "## Plot Sign-Up Rate per Day"
   ]
  },
  {
   "cell_type": "code",
   "execution_count": null,
   "metadata": {
    "id": "mn38bfqZldka"
   },
   "outputs": [],
   "source": [
    "# Get the submission rate per date\n",
    "signup_rate_per_day = pretest.groupby('date')['submitted'].mean() \n",
    "signup_rate_mean = signup_rate_per_day.mean() \n",
    "\n",
    "# Plot data\n",
    "f, ax = plt.subplots(figsize=(12, 5))\n",
    "plt.plot(signup_rate_per_day.index, signup_rate_per_day, '-o', color=c1, linewidth=1, label='Sign-Up Rate')\n",
    "plt.axhline(signup_rate_mean, color=c1, linestyle='-', linewidth=3, alpha=0.3, label='Sign-Up Rate (Mean)')\n",
    "\n",
    "# Format plot\n",
    "ax.xaxis.set_major_locator(mdates.DayLocator(interval=7))\n",
    "ax.xaxis.set_major_formatter(mdates.DateFormatter(\"%b %d\"))\n",
    "ax.xaxis.set_minor_locator(mdates.DayLocator())\n",
    "plt.title('Pretest Sign-Up Rate', fontsize=10, weight='bold')\n",
    "plt.ylabel('Sign-Up Rate', fontsize=10)\n",
    "plt.xlabel('Date', fontsize=10)\n",
    "plt.legend()\n",
    "plt.show()"
   ]
  },
  {
   "cell_type": "markdown",
   "metadata": {
    "id": "nVZLRZHoFVl8"
   },
   "source": [
    "# State the Hypothesis\n",
    "This is followed by setting parameter values such as the significance level (alpha), statistical power and minimum detctable effect (MDE).  \n",
    "**Ho:** The sign-up rates of blue and green buttons are the same.<br>\n",
    "**Ha:** The sign-up rates of blue and green buttons are different."
   ]
  },
  {
   "cell_type": "code",
   "execution_count": null,
   "metadata": {
    "id": "gKLmotWQDtDf"
   },
   "outputs": [],
   "source": [
    "# Experiment parameters\n",
    "alpha = 0.05  # Set the probability threshold at 0.05. If the p-value is less than 0.05, reject Ho.\n",
    "power = 0.80  # Ensure that there's 80% chance of detecting an effect with significance\n",
    "mde = 0.10    # Detect a 10% improvement of the sign-up rate with statistical significance\n",
    "\n",
    "# Proportions if the effect exists\n",
    "p1 = 0.10           # Control   (Blue)\n",
    "p2 = p1 * (1 + p1)  # Treatment (Green)"
   ]
  },
  {
   "cell_type": "markdown",
   "metadata": {
    "id": "WwKnQoLwFMMZ"
   },
   "source": [
    "# Design the Experiment\n",
    "Designing the experiment requires determining the randomization unit, calculating the sample size and determining the experiment duration. We will explore how to calculate the sample size and experiment duration in this section."
   ]
  },
  {
   "cell_type": "markdown",
   "metadata": {
    "id": "mgRwTkCN0hAq"
   },
   "source": [
    "#### Calculate Sample Size"
   ]
  },
  {
   "cell_type": "code",
   "execution_count": null,
   "metadata": {
    "id": "9Iw6SDbTL6LV"
   },
   "outputs": [],
   "source": [
    "# Calculate the effect size using Cohen's D\n",
    "cohen_D = sm.stats.proportion_effectsize(p1, p2)\n",
    "\n",
    "# Estimate the sample size required per group\n",
    "n = tt_ind_solve_power(effect_size=cohen_D, power=power, alpha=alpha)\n",
    "n = int(round(n, -3)) # Round up to the nearest thousand\n",
    "\n",
    "print(f'To detect an effect of {100*(p2/p1-1):.1f}% lift from the pretest sign-up at {100*p1:.0f}%, '\n",
    "      f'the sample size per group required is {n}.'\n",
    "      f'\\nThe total sample required in the experiment is {2*n}.')\n",
    "\n",
    "# Explore power across sample sizes\n",
    "ttest_power = TTestIndPower()\n",
    "ttest_power.plot_power(dep_var='nobs', nobs=np.arange(1000,30000,1000), effect_size=[cohen_D], title='Power Analysis')\n",
    "\n",
    "# Set plot parameters\n",
    "plt.axhline(0.8, linestyle='--', label='Desired Power', alpha=0.5)\n",
    "plt.axvline(n, linestyle='--', color='orange', label='Sample Size', alpha=0.5)\n",
    "plt.ylabel('Statistical Power')\n",
    "plt.grid(alpha=0.08)\n",
    "plt.legend()\n",
    "plt.show()"
   ]
  },
  {
   "cell_type": "markdown",
   "metadata": {
    "id": "Umof7rVKLaaL"
   },
   "source": [
    "#### Experiment Duration\n",
    "What's the duration required to achieve the required sample size given the percentage of unique visitors allocated to the experiment?"
   ]
  },
  {
   "cell_type": "code",
   "execution_count": null,
   "metadata": {
    "id": "7ui6BccVLcsM"
   },
   "outputs": [],
   "source": [
    "alloc = np.arange(0.10,1.1,0.10)\n",
    "size = round(visits_mean, -3) * alloc\n",
    "days = np.ceil(2*n / size)\n",
    "\n",
    "# Generate plot\n",
    "f, ax = plt.subplots(figsize=(6, 4))\n",
    "ax.plot(alloc, days, '-o')\n",
    "ax.xaxis.set_major_locator(MultipleLocator(0.1))\n",
    "ax.set_title('Days Required Given Traffic Allocation per Day')\n",
    "ax.set_ylabel('Experiment Duration in Days')\n",
    "ax.set_xlabel('% Traffic Allocated to the Experiment per Day')\n",
    "plt.show()"
   ]
  },
  {
   "cell_type": "markdown",
   "metadata": {},
   "source": [
    "What's the duration required to achieve the required sample size given the number of unique visitors allocated to the experiment?"
   ]
  },
  {
   "cell_type": "code",
   "execution_count": null,
   "metadata": {
    "id": "TRTOQRKoS0V8"
   },
   "outputs": [],
   "source": [
    "f, ax = plt.subplots(figsize=(6, 4))\n",
    "ax.plot(size, days, '-o')\n",
    "ax.xaxis.set_major_locator(MultipleLocator(1000))\n",
    "ax.set_title('Days Required Given Traffic Allocation per Day')\n",
    "ax.set_ylabel('Experiment Duration in Days')\n",
    "ax.set_xlabel('Traffic Allocated to the Experiment per Day')\n",
    "plt.show()"
   ]
  },
  {
   "cell_type": "code",
   "execution_count": null,
   "metadata": {
    "id": "xqGp_JqMTKvc"
   },
   "outputs": [],
   "source": [
    "# Display the number of users required per day in an experiment given the experiment duration.\n",
    "print(f'For a 21-day experiment, {np.ceil(n * 2 / 21)} users are required per day') # Too long to wait\n",
    "print(f'For a 14-day experiment, {np.ceil(n * 2 / 14)} users are required per day') # Sweet spot between risk and time\n",
    "print(f'For a 7-day experiment, {np.ceil(n * 2 / 7)} users are required per day')   # Too risky"
   ]
  },
  {
   "cell_type": "markdown",
   "metadata": {
    "id": "OSNhwF6lFfva"
   },
   "source": [
    "# Run the Experiment\n",
    "We will take a look at the step that involves running an experiment. The code below a simplified version of how data is collected and analyzed in a large scale experiment platform."
   ]
  },
  {
   "cell_type": "code",
   "execution_count": null,
   "metadata": {
    "id": "QjCLZe9j-Sg5"
   },
   "outputs": [],
   "source": [
    "# Get the subset tables of control and treatment results\n",
    "AB_test = test[test.experiment == 'email_test']\n",
    "control_signups = AB_test[AB_test.group == 0]['submitted']\n",
    "treatment_signups = AB_test[AB_test.group == 1]['submitted']\n",
    "\n",
    "# Get stats \n",
    "AB_control_cnt = control_signups.sum()          # Control Sign-Up Count\n",
    "AB_treatment_cnt = treatment_signups.sum()      # Treatment Sign-Up Count\n",
    "AB_control_rate = control_signups.mean()        # Control Sign-Up Rate\n",
    "AB_treatment_rate = treatment_signups.mean()    # Treatment Sign-Up Rate\n",
    "AB_control_size = control_signups.count()       # Control Sample Size \n",
    "AB_treatment_size = treatment_signups.count()   # Treatment Sample Size\n",
    "\n",
    "# Show calculation\n",
    "print(f'Control Sign-Up Rate: {AB_control_rate:.4}')\n",
    "print(f'Treatment Sign-Up Rate: {AB_treatment_rate:.4}')"
   ]
  },
  {
   "cell_type": "code",
   "execution_count": null,
   "metadata": {
    "id": "sFiJ9x8l-Tbd"
   },
   "outputs": [],
   "source": [
    "# Calculate the sign-up rates per date\n",
    "signups_per_day = AB_test.groupby(['group','date'])['submitted'].mean()\n",
    "ctrl_props = signups_per_day.loc[0]\n",
    "trt_props = signups_per_day.loc[1]\n",
    "\n",
    "# Get the day range of experiment\n",
    "exp_days = range(1, email_test['date'].nunique() + 1)\n",
    "\n",
    "# Let's display the sign-up rate per experiment day\n",
    "f, ax = plt.subplots(figsize=(10, 6))\n",
    "# Generate plots\n",
    "ax.plot(exp_days, ctrl_props, label='Control', color='b')\n",
    "ax.plot(exp_days, trt_props, label='Treatment', color='g')\n",
    "ax.axhline(AB_control_rate, label='Global Control Prop', linestyle='--', color='b')\n",
    "ax.axhline(AB_treatment_rate, label='Global Treatment Prop', linestyle='--', color='g')\n",
    "\n",
    "# # Format plot\n",
    "ax.set_xticks(exp_days)\n",
    "ax.set_title('Email Sign Up Rates across a 14-Day Experiment')\n",
    "ax.set_ylabel('Sign-Up Rate (Proportion)')\n",
    "ax.set_xlabel('Days in the Experiment')\n",
    "ax.legend()\n",
    "plt.show()"
   ]
  },
  {
   "cell_type": "markdown",
   "metadata": {
    "id": "hkhNJv1Ue-dN"
   },
   "source": [
    "# Assess Validity Threats\n",
    "\n",
    "In this step we will check for two of the checks for validity threats, which involve the AA test and the chi-square test for sample ratio mismatch (SRM).\n",
    "\n",
    "Conducting checks for the experiment ensures that the AB test result is trustworthy and reduces risk of committing type 1 or 2 errors.\n",
    "\n",
    "We run an AA test to ensure that there is no underlying difference between\n",
    "the control and treatment to begin with. Note that in an actual experiment,\n",
    "AA test would be conducted prior to the AB test. \n",
    "\n",
    "We run a chi-square test on group sizes to check for sample-ratio mismatch (SRM). This test ensures that the randomization algorithm worked\n",
    "\n",
    "There are other potential checks that could be performed including segmentation analysis to perform novelty checks and such. \n",
    "\n",
    "But, for this exercise, we will keep it simple to just two checks."
   ]
  },
  {
   "cell_type": "markdown",
   "metadata": {
    "id": "85x09JFyNhCj"
   },
   "source": [
    "## AA Test"
   ]
  },
  {
   "cell_type": "code",
   "execution_count": null,
   "metadata": {
    "id": "rS3kh7PZAK7p"
   },
   "outputs": [],
   "source": [
    "# Filter on visitors in the AA test \n",
    "AA_test = pretest[pretest.experiment == 'AA_test']\n",
    "\n",
    "# Grab the control and treatment groups in the AA test\n",
    "AA_control = AA_test[AA_test.group == 0]['submitted']\n",
    "AA_treatment = AA_test[AA_test.group == 1]['submitted']\n",
    "\n",
    "# Get stats\n",
    "AA_control_cnt = AA_control.sum()\n",
    "AA_treatment_cnt = AA_treatment.sum()\n",
    "AA_control_rate = AA_control.mean()\n",
    "AA_treatment_rate = AA_treatment.mean()\n",
    "AA_control_size = AA_control.count()\n",
    "AA_treatment_size = AA_treatment.count()\n",
    "\n",
    "# Show calculation\n",
    "print('-------- AA Test ----------')\n",
    "print(f'Control Sign-Up Rate: {AA_control_rate:.3}')\n",
    "print(f'Treatment Sign-Up Rate: {AA_treatment_rate:.3}')"
   ]
  },
  {
   "cell_type": "code",
   "execution_count": null,
   "metadata": {
    "id": "wSXMgqlCAMFA"
   },
   "outputs": [],
   "source": [
    "# Sign-up rates per date\n",
    "AA_signups_per_day = AA_test.groupby(['group','date'])['submitted'].mean()\n",
    "AA_ctrl_props = AA_signups_per_day.loc[0]\n",
    "AA_trt_props = AA_signups_per_day.loc[1]\n",
    "\n",
    "# Get the day range of experiment\n",
    "exp_days = range(1, AA_test['date'].nunique() + 1)\n",
    "\n",
    "# Let's display the sign-up rate per experiment day\n",
    "f, ax = plt.subplots(figsize=(10, 6))\n",
    "# Generate plots\n",
    "ax.plot(exp_days, AA_ctrl_props, label='Control', color='b')\n",
    "ax.plot(exp_days, AA_trt_props, label='Treatment', color='g')\n",
    "ax.axhline(AA_control_rate, label='Global Control Prop', linestyle='--', color='b')\n",
    "ax.axhline(AA_treatment_rate, label='Global Treatment Prop', linestyle='--', color='g')\n",
    "\n",
    "# # Format plot\n",
    "ax.set_xticks(exp_days)\n",
    "ax.set_title('AA Test')\n",
    "ax.set_ylabel('Sign-Up Rate (Proportion)')\n",
    "ax.set_xlabel('Days in the Experiment')\n",
    "ax.legend()\n",
    "plt.show()"
   ]
  },
  {
   "cell_type": "code",
   "execution_count": null,
   "metadata": {
    "id": "oOmP3XsnAOIe"
   },
   "outputs": [],
   "source": [
    "# Run a chi-square test\n",
    "\n",
    "# Execute test\n",
    "AA_chistats, AA_pvalue, AA_tab = proportions_chisquare([AA_control_cnt, AA_treatment_cnt], nobs=[AA_control_size, AA_treatment_size])\n",
    "\n",
    "# Grab dates\n",
    "first_date = AA_test['date'].min().date()\n",
    "last_date = AA_test['date'].max().date()\n",
    "\n",
    "# Set the ALPHA for the AA test\n",
    "AA_ALPHA = 0.05\n",
    "\n",
    "print(f'-------- AA Test ({first_date} - {last_date})---------\\n')\n",
    "print('Ho: The sign-up rates between blue and green are the same.')\n",
    "print('Ha: The sign-up rates between blue and green are different.\\n')\n",
    "print(f'Significance level: {AA_ALPHA}')\n",
    "\n",
    "print(f'Chi-Square = {AA_chistats:.3f} | P-value = {AA_pvalue:.3f}')\n",
    "\n",
    "print('\\nConclusion:')\n",
    "if AA_pvalue < AA_ALPHA:\n",
    "  print('Reject Ho and conclude that there is statistical significance in the difference between the two groups. Check for instrumentation errors.')\n",
    "else:\n",
    "  print('Fail to reject Ho. Therefore, proceed with the AB test.')"
   ]
  },
  {
   "cell_type": "markdown",
   "metadata": {
    "id": "M9hn41L6Ni7Y"
   },
   "source": [
    "## Sample Ratio Mismatch (SRM)"
   ]
  },
  {
   "cell_type": "code",
   "execution_count": null,
   "metadata": {
    "id": "ojJAzojDAPaB"
   },
   "outputs": [],
   "source": [
    "# Set test param\n",
    "SRM_ALPHA = 0.05\n",
    "\n",
    "# Get the observed and expected counts in the experiment\n",
    "email_test = test[test.experiment == 'email_test']\n",
    "observed = email_test.groupby('group')['experiment'].count().values\n",
    "expected = [email_test.shape[0]*0.5]*2\n",
    "\n",
    "# perform Chi-Square Goodness of Fit Test\n",
    "chi_stats, pvalue = stats.chisquare(f_obs=observed, f_exp=expected)\n",
    "\n",
    "print('------- A Chi-Square Test for SRM --------\\n')\n",
    "print('Ho: The ratio of samples is 1:1.')\n",
    "print('Ha: The ratio of samples is not 1:1.\\n')\n",
    "print(f'Significance level: {SRM_ALPHA}')\n",
    "\n",
    "print(f'Chi-Square = {chi_stats:.3f} | P-value = {pvalue:.3f}')\n",
    "\n",
    "print('\\nConclusion:')\n",
    "if pvalue < SRM_ALPHA:\n",
    "  print('Reject Ho and conclude that there is statistical significance in the ratio of samples not being 1:1. Therefore, there is SRM.')\n",
    "else:\n",
    "  print('Fail to reject Ho. Therefore, there is no SRM.')"
   ]
  },
  {
   "cell_type": "markdown",
   "metadata": {
    "id": "oS_tM3U4JMQK"
   },
   "source": [
    "# Conduct Statistical Inference\n",
    "In this step we will conduct a procedure of applying statistical tests on the email sign-up AB test. We will take a look at Chi-Squared and T-Test to evaluate the results from the experiment. Though, in real life, only one of the tests is sufficient, for learning, it's useful to compare and contrast the result from both.\n",
    "\n",
    "We will end this step by looking at the confidence interval."
   ]
  },
  {
   "cell_type": "code",
   "execution_count": null,
   "metadata": {
    "id": "Gthgf773EMH9"
   },
   "outputs": [],
   "source": [
    "# Set the ALPHA for the AB test\n",
    "AB_ALPHA = 0.05"
   ]
  },
  {
   "cell_type": "markdown",
   "metadata": {
    "id": "yHN61nIrLwsE"
   },
   "source": [
    "## Chi-Squared Test"
   ]
  },
  {
   "cell_type": "code",
   "execution_count": null,
   "metadata": {
    "id": "nEQvHeVODW2n"
   },
   "outputs": [],
   "source": [
    "# Execute test\n",
    "AB_chistats, AB_pvalue, AB_tab = proportions_chisquare([AB_control_cnt, AB_treatment_cnt], nobs=[AB_control_size, AB_treatment_size])\n",
    "\n",
    "# Grab dates\n",
    "first_date = AB_test['date'].min().date()\n",
    "last_date = AB_test['date'].max().date()\n",
    "\n",
    "# Run results\n",
    "print(f'-------- AB Test Email Sign-Ups ({first_date} - {last_date})---------\\n')\n",
    "print('Ho: The sign-up rates between blue and green are the same.')\n",
    "print('Ha: The sign-up rates between blue and green are different.\\n')\n",
    "print(f'Significance level: {AB_ALPHA}')\n",
    "\n",
    "print(f'Chi-Square = {AB_chistats:.3f} | P-value = {AB_pvalue:.3f}')\n",
    "\n",
    "print('\\nConclusion:')\n",
    "if AB_pvalue < AB_ALPHA:\n",
    "  print('Reject Ho and conclude that there is statistical significance in the difference of sign-up rates between blue and green buttons.')\n",
    "else:\n",
    "  print('Fail to reject Ho.')"
   ]
  },
  {
   "cell_type": "markdown",
   "metadata": {
    "id": "ye5wj81ZL0zl"
   },
   "source": [
    "## T-Test for Proportions"
   ]
  },
  {
   "cell_type": "code",
   "execution_count": null,
   "metadata": {
    "id": "As16GzIHDY-2"
   },
   "outputs": [],
   "source": [
    "# Let's run T-Test for Proportions\n",
    "\n",
    "# Execute test\n",
    "AB_tstat, AB_pvalue, AB_df = ttest_ind(treatment_signups, control_signups)\n",
    "\n",
    "# Grab dates\n",
    "first_date = AB_test['date'].min().date()\n",
    "last_date = AB_test['date'].max().date()\n",
    "\n",
    "# Print results\n",
    "print(f'-------- AB Test Email Sign-Ups ({first_date} - {last_date})---------\\n')\n",
    "print('Ho: The sign-up rates between blue and green are the same.')\n",
    "print('Ha: The sign-up rates between blue and green are different.\\n')\n",
    "print(f'Significance level: {AB_ALPHA}')\n",
    "\n",
    "print(f'T-Statistic = {AB_tstat:.3f} | P-value = {AB_pvalue:.3f}')\n",
    "\n",
    "print('\\nConclusion:')\n",
    "if AB_pvalue < AB_ALPHA:\n",
    "  print('Reject Ho and conclude that there is statistical significance in the difference of sign-up rates between blue and green buttons.')\n",
    "else:\n",
    "  print('Fail to reject Ho.')"
   ]
  },
  {
   "cell_type": "markdown",
   "metadata": {
    "id": "398vz6S_NlDF"
   },
   "source": [
    "## Final Result w/ Confidence Interval"
   ]
  },
  {
   "cell_type": "code",
   "execution_count": null,
   "metadata": {
    "id": "OmVqqsZ8DZ_r"
   },
   "outputs": [],
   "source": [
    "# Compute the Confidence Interval of the Test\n",
    "ci = confint_proportions_2indep(AB_treatment_cnt, AB_treatment_size, AB_control_cnt, AB_control_size, method=None, compare='diff', alpha=0.05, correction=True)\n",
    "lower = ci[0]\n",
    "upper = ci[1]\n",
    "lower_lift = ci[0] / AB_control_rate\n",
    "upper_lift = ci[1] / AB_control_rate"
   ]
  },
  {
   "cell_type": "code",
   "execution_count": null,
   "metadata": {
    "id": "qK3r6oRiDbH8"
   },
   "outputs": [],
   "source": [
    "# Print results\n",
    "print('--------- Sample Sizes ----------')\n",
    "print(f'Control: {AB_control_size}')\n",
    "print(f'Treatment: {AB_treatment_size}')\n",
    "\n",
    "print('\\n--------- Sign-Up Counts (Rates) ----------')\n",
    "print(f'Control: {AB_control_cnt} ({AB_control_rate*100:.1f}%)')\n",
    "print(f'Treatment: {AB_treatment_cnt} ({AB_treatment_rate*100:.1f}%)')\n",
    "\n",
    "print('\\n--------- Differences ----------')\n",
    "print(f'Absolute: {AB_treatment_rate - AB_control_rate:.4f}')\n",
    "print(f'Relative (lift): {(AB_treatment_rate - AB_control_rate) / AB_control_rate*100:.1f}%')\n",
    "\n",
    "print('\\n--------- T-Stats ----------')\n",
    "print(f'Test Statistic: {AB_tstat:3f}')\n",
    "print(f'P-Value: {AB_pvalue:.5f}')\n",
    "\n",
    "print('\\n--------- Confidence Intervals ----------')\n",
    "print(f'Absolute Difference CI: ({lower:.3f}, {upper:.3f})')\n",
    "print(f'Relative Difference (lift) CI: ({lower_lift*100:.1f}%, {upper_lift*100:.1f}%)')"
   ]
  },
  {
   "cell_type": "markdown",
   "metadata": {
    "id": "PChsTpUqfoQ4"
   },
   "source": [
    "# Decide Whether to Launch\n",
    "\n",
    "In the email sign-up test for the Elpis Clothing pre-launch page, we aimed to improve the sign-up rate by changing the submit button color from blue to green.\n",
    "\n",
    "We ran a two-week randomized controlled experiment (02/01/2022 - 02/14/2022) that enrolled a sample of users into the control (blue) and treatment (green) groups.\n",
    "\n",
    "From the test, we observed an improvement of 12.8% lift from the benchmark (blue) at 9.6%. The result was statistically significant with a 95% confidence interval between 5.7% and 19.9%. \n",
    "\n",
    "Given that we observed practical and statistical significance, our recommendation is to launch the new submit button in green."
   ]
  },
  {
   "cell_type": "code",
   "execution_count": null,
   "metadata": {},
   "outputs": [],
   "source": []
  }
 ],
 "metadata": {
  "colab": {
   "collapsed_sections": [
    "mgRwTkCN0hAq",
    "Umof7rVKLaaL"
   ],
   "provenance": [],
   "toc_visible": true
  },
  "kernelspec": {
   "display_name": "Python 3 (ipykernel)",
   "language": "python",
   "name": "python3"
  },
  "language_info": {
   "codemirror_mode": {
    "name": "ipython",
    "version": 3
   },
   "file_extension": ".py",
   "mimetype": "text/x-python",
   "name": "python",
   "nbconvert_exporter": "python",
   "pygments_lexer": "ipython3",
   "version": "3.9.18"
  }
 },
 "nbformat": 4,
 "nbformat_minor": 4
}
